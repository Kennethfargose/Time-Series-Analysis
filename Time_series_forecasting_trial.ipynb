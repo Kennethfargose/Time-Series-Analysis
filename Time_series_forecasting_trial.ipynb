{
  "nbformat": 4,
  "nbformat_minor": 0,
  "metadata": {
    "colab": {
      "private_outputs": true,
      "provenance": [],
      "mount_file_id": "16ltoR2VFHEJhG_7yt_AkzfGho43d-y31",
      "authorship_tag": "ABX9TyO2M4CMpDenDBueF5CgzaN7",
      "include_colab_link": true
    },
    "kernelspec": {
      "name": "python3",
      "display_name": "Python 3"
    },
    "language_info": {
      "name": "python"
    }
  },
  "cells": [
    {
      "cell_type": "markdown",
      "metadata": {
        "id": "view-in-github",
        "colab_type": "text"
      },
      "source": [
        "<a href=\"https://colab.research.google.com/github/Kennethfargose/Time-Series-Analysis/blob/main/Time_series_forecasting_trial.ipynb\" target=\"_parent\"><img src=\"https://colab.research.google.com/assets/colab-badge.svg\" alt=\"Open In Colab\"/></a>"
      ]
    },
    {
      "cell_type": "code",
      "source": [
        "pip install pmdarima"
      ],
      "metadata": {
        "id": "77MTgI25FBMa"
      },
      "execution_count": null,
      "outputs": []
    },
    {
      "cell_type": "code",
      "source": [
        "pip install fbprophet"
      ],
      "metadata": {
        "id": "-PSYzuUQFfJt"
      },
      "execution_count": null,
      "outputs": []
    },
    {
      "cell_type": "code",
      "source": [
        "!pip install prophet"
      ],
      "metadata": {
        "id": "kwuYWgO5Fwe4"
      },
      "execution_count": null,
      "outputs": []
    },
    {
      "cell_type": "code",
      "source": [
        "import prophet\n"
      ],
      "metadata": {
        "id": "fG5izi0mGRE_"
      },
      "execution_count": null,
      "outputs": []
    },
    {
      "cell_type": "code",
      "source": [
        "import warnings\n",
        "import itertools\n",
        "import numpy as np\n",
        "import matplotlib.pyplot as plt\n",
        "warnings.filterwarnings(\"ignore\")\n",
        "plt.style.use('fivethirtyeight')\n",
        "from pmdarima.arima import auto_arima\n",
        "import pandas as pd\n",
        "pd.set_option('display.expand_frame_repr', False)\n",
        "pd.set_option('display.max_columns', 500)\n",
        "pd.set_option('display.width', 1000)\n",
        "\n",
        "import statsmodels.api as sm\n",
        "from statsmodels.graphics.tsaplots import plot_acf\n",
        "from statsmodels.graphics.tsaplots import plot_pacf\n",
        "from statsmodels.tsa.stattools import adfuller\n",
        "from statsmodels.tsa.seasonal import seasonal_decompose\n",
        "from statsmodels.tsa.ar_model import AR\n",
        "from statsmodels.tsa.arima_model import ARMA, ARIMA\n",
        "\n",
        "from statsmodels.tsa.statespace.sarimax import SARIMAX\n",
        "# from fbprophet import prophet\n",
        "\n",
        "from math import sqrt\n",
        "\n",
        "import matplotlib\n",
        "matplotlib.rcParams['axes.labelsize'] = 14\n",
        "matplotlib.rcParams['xtick.labelsize'] = 12\n",
        "matplotlib.rcParams['ytick.labelsize'] = 12\n",
        "matplotlib.rcParams['text.color'] = 'k'\n",
        "import seaborn as sns\n",
        "\n",
        "from random import random\n",
        "\n",
        "from sklearn.metrics import mean_squared_error, r2_score, mean_absolute_error, median_absolute_error, mean_squared_log_error"
      ],
      "metadata": {
        "id": "d6CuizKcEkEJ"
      },
      "execution_count": null,
      "outputs": []
    },
    {
      "cell_type": "code",
      "source": [
        "\n",
        "\n",
        "df = pd.read_csv('/content/drive/MyDrive/international-airline-passengers.csv')\n",
        "\n"
      ],
      "metadata": {
        "id": "g4O9sIPBEkqF"
      },
      "execution_count": null,
      "outputs": []
    },
    {
      "cell_type": "code",
      "source": [
        "df1=pd.read_csv('/content/drive/MyDrive/International_Report_Passengers.csv')"
      ],
      "metadata": {
        "id": "og4UHwrnc2gD"
      },
      "execution_count": null,
      "outputs": []
    },
    {
      "cell_type": "code",
      "source": [
        "df1"
      ],
      "metadata": {
        "id": "jaz7ZxKLdELo"
      },
      "execution_count": null,
      "outputs": []
    },
    {
      "cell_type": "code",
      "source": [
        "df2=df1.drop(['data_dte','usg_apt_id','usg_apt','usg_wac','fg_apt_id','fg_apt','fg_wac','airlineid','carrier','type','Scheduled','Charter','carriergroup'],axis=1)\n",
        "\n"
      ],
      "metadata": {
        "id": "ESmxN2biG9_d"
      },
      "execution_count": null,
      "outputs": []
    },
    {
      "cell_type": "code",
      "source": [
        "df2['Year'].apply(str)"
      ],
      "metadata": {
        "id": "9Avt-IH9UZI5"
      },
      "execution_count": null,
      "outputs": []
    },
    {
      "cell_type": "code",
      "source": [
        "c = np.concatenate(df2[[\"Year\", \"Month\"]])"
      ],
      "metadata": {
        "id": "pgV5yEP5Vj_W"
      },
      "execution_count": null,
      "outputs": []
    },
    {
      "cell_type": "code",
      "source": [
        "df2\n"
      ],
      "metadata": {
        "id": "XqKrUxl5fwOW"
      },
      "execution_count": null,
      "outputs": []
    },
    {
      "cell_type": "code",
      "source": [
        "df2.columns = ['year','passengers']"
      ],
      "metadata": {
        "id": "SUl_ysf5G-g4"
      },
      "execution_count": null,
      "outputs": []
    },
    {
      "cell_type": "code",
      "source": [
        "df.columns = ['year','passengers']\n",
        "\n",
        "df=df.dropna()"
      ],
      "metadata": {
        "id": "LUlwvstEqAY5"
      },
      "execution_count": null,
      "outputs": []
    },
    {
      "cell_type": "code",
      "source": [
        "df['year']=pd.to_datetime(df['year'])"
      ],
      "metadata": {
        "id": "s-RzJx_HCniK"
      },
      "execution_count": null,
      "outputs": []
    },
    {
      "cell_type": "code",
      "source": [
        "df.drop(df.tail(1).index,inplace=True)"
      ],
      "metadata": {
        "id": "MYGfLAO7JSE6"
      },
      "execution_count": null,
      "outputs": []
    },
    {
      "cell_type": "code",
      "source": [
        "print('Shape of data',df.shape)\n",
        "df.head()\n"
      ],
      "metadata": {
        "id": "7JM1OrsOPCxd"
      },
      "execution_count": null,
      "outputs": []
    },
    {
      "cell_type": "code",
      "source": [
        "\n",
        "\n",
        "df.set_index('year',inplace=True)\n",
        "\n"
      ],
      "metadata": {
        "id": "FJxk0XI0DBWT"
      },
      "execution_count": null,
      "outputs": []
    },
    {
      "cell_type": "code",
      "source": [
        "\n",
        "df.plot()\n",
        "\n"
      ],
      "metadata": {
        "id": "p5PYI1beIsxk"
      },
      "execution_count": null,
      "outputs": []
    },
    {
      "cell_type": "code",
      "source": [
        "\n",
        "\n",
        "test_result=adfuller(df['passengers'])\n",
        "\n"
      ],
      "metadata": {
        "id": "uwP8FWV6Dm5B"
      },
      "execution_count": null,
      "outputs": []
    },
    {
      "cell_type": "code",
      "source": [
        "from statsmodels.tsa.stattools import adfuller\n",
        "\n",
        "\n",
        "\n",
        "#Ho: It is non stationary\n",
        "#H1: It is stationary\n",
        "\n",
        "def adfuller_test(passengers):\n",
        "    result=adfuller(passengers)\n",
        "    labels = ['ADF Test Statistic','p-value','#Lags Used','Number of Observations Used']\n",
        "    for value,label in zip(result,labels):\n",
        "        print(label+' : '+str(value) )\n",
        "    if result[1] <= 0.05:\n",
        "        print(\"strong evidence against the null hypothesis(Ho), reject the null hypothesis. Data has no unit root and is stationary\")\n",
        "    else:\n",
        "        print(\"weak evidence against null hypothesis, time series has a unit root, indicating it is non-stationary \")\n",
        "\n",
        "\n",
        "\n"
      ],
      "metadata": {
        "id": "wcB7XsO3Iwh7"
      },
      "execution_count": null,
      "outputs": []
    },
    {
      "cell_type": "code",
      "source": [
        "\n",
        "adfuller_test(df['passengers'])\n",
        "\n"
      ],
      "metadata": {
        "id": "-YpJ_I5_I2hx"
      },
      "execution_count": null,
      "outputs": []
    },
    {
      "cell_type": "code",
      "source": [
        "\n",
        "\n",
        "df['passengers First Difference'] = df['passengers'] - df['passengers'].shift(1)\n",
        "\n"
      ],
      "metadata": {
        "id": "r9TRTCwxEiUN"
      },
      "execution_count": null,
      "outputs": []
    },
    {
      "cell_type": "code",
      "source": [],
      "metadata": {
        "id": "rqV5IIyfFCVf"
      },
      "execution_count": null,
      "outputs": []
    },
    {
      "cell_type": "code",
      "source": [
        "\n",
        "\n",
        "df['passengers'].shift(1)\n",
        "\n"
      ],
      "metadata": {
        "id": "BnahZhWOE5ye"
      },
      "execution_count": null,
      "outputs": []
    },
    {
      "cell_type": "code",
      "source": [
        "df['Seasonal First Difference']=df['passengers']-df['passengers'].shift(12)"
      ],
      "metadata": {
        "id": "-zD628tSFEdH"
      },
      "execution_count": null,
      "outputs": []
    },
    {
      "cell_type": "code",
      "source": [
        "df.head(14)"
      ],
      "metadata": {
        "id": "kfEAuRkFFVmw"
      },
      "execution_count": null,
      "outputs": []
    },
    {
      "cell_type": "code",
      "source": [
        "df.drop('Passengers First Difference',axis=1)"
      ],
      "metadata": {
        "id": "ttmOQEe2Fx_M"
      },
      "execution_count": null,
      "outputs": []
    },
    {
      "cell_type": "code",
      "source": [
        "\n",
        "\n",
        "## Again test dickey fuller test\n",
        "adfuller_test(df['Seasonal First Difference'].dropna())\n",
        "\n"
      ],
      "metadata": {
        "id": "FCJnz4tnFZrE"
      },
      "execution_count": null,
      "outputs": []
    },
    {
      "cell_type": "code",
      "source": [
        "df['Seasonal First Difference'].plot()"
      ],
      "metadata": {
        "id": "NBCDPCDZGC35"
      },
      "execution_count": null,
      "outputs": []
    },
    {
      "cell_type": "code",
      "source": [
        "\n",
        "\n",
        "from pandas.plotting import autocorrelation_plot\n",
        "autocorrelation_plot(df['passengers'])\n",
        "plt.show()\n",
        "\n"
      ],
      "metadata": {
        "id": "2ViW6L6vGO4A"
      },
      "execution_count": null,
      "outputs": []
    },
    {
      "cell_type": "code",
      "source": [
        "\n",
        "\n",
        "from statsmodels.graphics.tsaplots import plot_acf,plot_pacf\n",
        "\n"
      ],
      "metadata": {
        "id": "dlpAbU1vGnOC"
      },
      "execution_count": null,
      "outputs": []
    },
    {
      "cell_type": "code",
      "source": [
        "fig = plt.figure(figsize=(12,8))\n",
        "ax1 = fig.add_subplot(211)\n",
        "fig = sm.graphics.tsa.plot_acf(df['Seasonal First Difference'].iloc[13:],lags=40,ax=ax1)\n",
        "ax2 = fig.add_subplot(212)\n",
        "fig = sm.graphics.tsa.plot_pacf(df['Seasonal First Difference'].iloc[13:],lags=40,ax=ax2)\n"
      ],
      "metadata": {
        "id": "LM1P06lhGtIh"
      },
      "execution_count": null,
      "outputs": []
    },
    {
      "cell_type": "code",
      "source": [
        "from pmdarima import auto_arima\n",
        "# Ignore harmless warnings\n",
        "import warnings\n",
        "warnings.filterwarnings(\"ignore\")"
      ],
      "metadata": {
        "id": "pdxBhg6yMLS1"
      },
      "execution_count": null,
      "outputs": []
    },
    {
      "cell_type": "code",
      "source": [
        "\n",
        "\n",
        "model=sm.tsa.arima.ARIMA(df['passengers'],order=(1,1,1))\n",
        "model_fit=model.fit()\n",
        "\n"
      ],
      "metadata": {
        "id": "y20Nz0zXK6Gk"
      },
      "execution_count": null,
      "outputs": []
    },
    {
      "cell_type": "code",
      "source": [
        "model_fit.summary()"
      ],
      "metadata": {
        "id": "Gg8aCrpsLF8n"
      },
      "execution_count": null,
      "outputs": []
    },
    {
      "cell_type": "code",
      "source": [
        "stepwise_fit = auto_arima(df['passengers'],\n",
        "                          suppress_warnings=True)\n",
        "\n",
        "stepwise_fit.summary()\n",
        "\n"
      ],
      "metadata": {
        "id": "KByn_T37MvM3"
      },
      "execution_count": null,
      "outputs": []
    },
    {
      "cell_type": "code",
      "source": [
        "from statsmodels.tsa.arima_model import ARIMA"
      ],
      "metadata": {
        "id": "2-U3Ga99I__e"
      },
      "execution_count": null,
      "outputs": []
    },
    {
      "cell_type": "code",
      "source": [
        "print(df.shape)\n",
        "train=df.iloc[:-30]\n",
        "test=df.iloc[-30:]\n",
        "print(train.shape,test.shape)\n",
        "print(test.iloc[0],test.iloc[-1])"
      ],
      "metadata": {
        "id": "opbmPQOKsBPJ"
      },
      "execution_count": null,
      "outputs": []
    },
    {
      "cell_type": "code",
      "source": [
        "import statsmodels.api as sm\n",
        "model=sm.tsa.arima.ARIMA(train['passengers'],order=(2,1,2))\n",
        "model=model.fit()\n",
        "model.summary()"
      ],
      "metadata": {
        "id": "bHYDxVX-JEO4"
      },
      "execution_count": null,
      "outputs": []
    },
    {
      "cell_type": "code",
      "source": [
        "start=len(train)\n",
        "end=len(train)+len(test)-1\n",
        "#if the predicted values dont have date values as index, you will have to uncomment the following two commented lines to plot a graph\n",
        "#index_future_dates=pd.date_range(start='2018-12-01',end='2018-12-30')\n",
        "pred=model.predict(start=start,end=end,typ='levels').rename('ARIMA predictions')\n",
        "#pred.index=index_future_dates\n",
        "pred.plot(legend=True)\n",
        "test['passengers'].plot(legend=True)"
      ],
      "metadata": {
        "id": "t6uoNXe2d0UG"
      },
      "execution_count": null,
      "outputs": []
    },
    {
      "cell_type": "code",
      "source": [
        "\n",
        "\n",
        "pred.plot(legend='ARIMA Predictions')\n",
        "test['passengers'].plot(legend=True)\n",
        "\n"
      ],
      "metadata": {
        "id": "0jkhbdTKKBd_"
      },
      "execution_count": null,
      "outputs": []
    },
    {
      "cell_type": "code",
      "source": [
        "\n",
        "\n",
        "test['passengers'].mean()\n",
        "\n"
      ],
      "metadata": {
        "id": "RNMjY2D8KHPw"
      },
      "execution_count": null,
      "outputs": []
    },
    {
      "cell_type": "code",
      "source": [
        "from sklearn.metrics import mean_squared_error\n",
        "from math import sqrt\n",
        "rmse=sqrt(mean_squared_error(pred,test['passengers']))\n",
        "print(rmse)"
      ],
      "metadata": {
        "id": "7CUwQ9H4KGXi"
      },
      "execution_count": null,
      "outputs": []
    },
    {
      "cell_type": "code",
      "source": [
        "model2=sm.tsa.arima.ARIMA(df['passengers'],order=(2,1,2))\n",
        "model2=model2.fit()\n",
        "df.tail()"
      ],
      "metadata": {
        "id": "B7vZlaxgtLFH"
      },
      "execution_count": null,
      "outputs": []
    },
    {
      "cell_type": "code",
      "source": [
        "index_future_dates=pd.date_range(start='2018-12-30',end='2019-01-29')\n",
        "#print(index_future_dates)\n",
        "pred=model2.predict(start=len(df),end=len(df)+30,typ='levels').rename('ARIMA Predictions')\n",
        "#print(comp_pred)\n",
        "pred.index=index_future_dates\n",
        "print(pred)\n"
      ],
      "metadata": {
        "id": "PY9i2H1MKP1U"
      },
      "execution_count": null,
      "outputs": []
    },
    {
      "cell_type": "code",
      "source": [
        "pred.plot(figsize=(12,5),legend=True)\n"
      ],
      "metadata": {
        "id": "xhMNqRvCKTE_"
      },
      "execution_count": null,
      "outputs": []
    },
    {
      "cell_type": "code",
      "source": [
        "model=sm.tsa.statespace.SARIMAX(df['passengers'],order=(1, 1, 1),seasonal_order=(1,1,1,12))\n",
        "results=model.fit()"
      ],
      "metadata": {
        "id": "SjXntnAWl35d"
      },
      "execution_count": null,
      "outputs": []
    },
    {
      "cell_type": "code",
      "source": [
        "\n",
        "\n",
        "df['forecast']=results.predict(start=120,end=190,dynamic=True)\n",
        "df[['passengers','forecast']].plot(figsize=(12,8))\n",
        "\n"
      ],
      "metadata": {
        "id": "X9LvcJQRLiEU"
      },
      "execution_count": null,
      "outputs": []
    },
    {
      "cell_type": "code",
      "source": [
        "\n",
        "\n",
        "from pandas.tseries.offsets import DateOffset\n",
        "future_dates=[df.index[-1]+ DateOffset(months=x)for x in range(0,24)]\n",
        "\n"
      ],
      "metadata": {
        "id": "AWnhsWHMLm2P"
      },
      "execution_count": null,
      "outputs": []
    },
    {
      "cell_type": "code",
      "source": [
        "future_datest_df=pd.DataFrame(index=future_dates[1:],columns=df.columns)"
      ],
      "metadata": {
        "id": "pN9_ekCFLr6X"
      },
      "execution_count": null,
      "outputs": []
    },
    {
      "cell_type": "code",
      "source": [
        "future_datest_df.tail()"
      ],
      "metadata": {
        "id": "4V6cWITnLvUF"
      },
      "execution_count": null,
      "outputs": []
    },
    {
      "cell_type": "code",
      "source": [
        "future_df=pd.concat([df,future_datest_df])\n",
        "\n"
      ],
      "metadata": {
        "id": "iIb9URmwMCrf"
      },
      "execution_count": null,
      "outputs": []
    },
    {
      "cell_type": "code",
      "source": [
        "\n",
        "\n",
        "future_df['forecast'] = results.predict(start = 141, end = 165, dynamic= True)\n",
        "future_df[['passengers', 'forecast']].plot(figsize=(12, 8))\n",
        "\n"
      ],
      "metadata": {
        "id": "w6jpWOt8L0XM"
      },
      "execution_count": null,
      "outputs": []
    },
    {
      "cell_type": "code",
      "source": [],
      "metadata": {
        "id": "NZ_jcgBlL91G"
      },
      "execution_count": null,
      "outputs": []
    }
  ]
}